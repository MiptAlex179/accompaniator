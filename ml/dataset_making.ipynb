{
 "cells": [
  {
   "cell_type": "code",
   "execution_count": 1,
   "metadata": {},
   "outputs": [],
   "source": [
    "import mido\n",
    "import os\n",
    "import tqdm\n",
    "from structures import *"
   ]
  },
  {
   "cell_type": "code",
   "execution_count": 2,
   "metadata": {},
   "outputs": [],
   "source": [
    "def get_duration(mid, time):\n",
    "    return round(time/(mid.ticks_per_beat/(128/4)))\n",
    "    \n",
    "def process_file(name, outf):\n",
    "    try: #for i in range(0, 1):\n",
    "        try:\n",
    "            mid = mido.MidiFile(name)\n",
    "        except Exception as e:\n",
    "            print('Broken midi: ', e)\n",
    "            return\n",
    "        \n",
    "        song = Song()\n",
    "        song.name = name\n",
    "        try:\n",
    "            song.bpm = int(mido.tempo2bpm(list(filter(lambda msg: msg.type == 'set_tempo', mid))[0].tempo))\n",
    "        except Exception as e:\n",
    "            song.bpm = 196\n",
    "        \n",
    "        for mid_track in mid.tracks:\n",
    "            try:\n",
    "                # Треки с метаданными не обрабатываем\n",
    "                if len(list(filter(lambda msg: msg.type == 'note_on', mid_track))) == 0:\n",
    "                    continue\n",
    "                    \n",
    "                track = Track()\n",
    "                \n",
    "                try:\n",
    "                    track.track_name = list(filter(lambda msg: msg.type == 'track_name', mid_track))[0].name\n",
    "                except Exception:\n",
    "                    track.track_name = ''\n",
    "                    \n",
    "                try:\n",
    "                    track.instrument_name = list(filter(lambda msg: msg.type == 'instrument_name', mid_track))[0].name\n",
    "                except Exception:\n",
    "                    track.instrument_name = ''\n",
    "                    \n",
    "                try:\n",
    "                    track.program = list(filter(lambda msg: msg.type == 'program_change', mid_track))[0].program\n",
    "                except Exception:\n",
    "                    track.program = -1\n",
    "                #if program_change >= 97 or (33 <= program_change <= 40):\n",
    "                #    continue\n",
    "                    \n",
    "                try:\n",
    "                    key_signature = list(filter(lambda msg: msg.type == 'key_signature', mid_track))[0].key\n",
    "                    song.key_signature = key_signature\n",
    "                except Exception:\n",
    "                    key_signature = ''\n",
    "                \n",
    "                notes_on = list(filter(lambda msg: msg.type == 'note_on', mid_track))\n",
    "                chords = [Chord([], 0, 0)]\n",
    "                for i, note_on in enumerate(notes_on):\n",
    "                    cur_duration = 0\n",
    "                    \n",
    "                    if int(note_on.velocity) != 0: # Если это note_on\n",
    "                        if note_on.time != 0:\n",
    "                            chords += [ Chord([], get_duration(mid, note_on.time), 0) ] # Пауза\n",
    "                        \n",
    "                        for j in range(i+1, len(notes_on)):\n",
    "                            cur_duration += get_duration(mid, notes_on[j].time)\n",
    "                            if notes_on[j].note == note_on.note and notes_on[j].velocity == 0: # Нашли конец\n",
    "                                if note_on.time == 0: # Если это продолжение аккорда\n",
    "                                    chords[-1].notes += [Note(note_on.note)]\n",
    "                                    #if chords[-1].length != cur_duration or chords[-1].beat_force != note_on.velocity:\n",
    "                                    #    print(\"No\")\n",
    "                                    chords[-1].duration = cur_duration\n",
    "                                    chords[-1].velocity = note_on.velocity\n",
    "                                else:\n",
    "                                    chords += [Chord([], cur_duration, note_on.velocity)]\n",
    "                                    chords[-1].notes += [Note(note_on.note)]\n",
    "                                break\n",
    "                    \n",
    "                track.chords = chords\n",
    "                \n",
    "                song.add_track(track)\n",
    "            except Exception as e:\n",
    "                print('Track broken', e)\n",
    "                break\n",
    "        song.dump(outf)\n",
    "        return song\n",
    "    except Exception as e:\n",
    "        print('MIDI broken %s'%name)\n",
    "        print(e)\n"
   ]
  },
  {
   "cell_type": "code",
   "execution_count": 3,
   "metadata": {},
   "outputs": [],
   "source": [
    "outf = open('test.txt', 'wb')\n",
    "song = process_file('BackInBlack.mid', outf)\n",
    "outf.close()\n",
    "s = Song()\n",
    "s.load('test.txt')"
   ]
  },
  {
   "cell_type": "code",
   "execution_count": 4,
   "metadata": {},
   "outputs": [
    {
     "name": "stdout",
     "output_type": "stream",
     "text": [
      "'BackInBlack.mid' 8 94\n",
      "'Guitar 1' 'Guitar 1' 29\n",
      "'Guitar 1  cont.' 'Guitar 1  cont.' 29\n",
      "'Guitar 2' 'Guitar 2' 30\n",
      "'Guitar 2  cont.' 'Guitar 2  cont.' 30\n",
      "'Bass' 'Bass' 33\n",
      "'Snare' 'Snare' 114\n",
      "'Bass Drum' 'Bass Drum' 112\n",
      "'Cymbal' 'Cymbal' 118\n",
      "\n",
      "'BackInBlack.mid' 8 94\n",
      "'Guitar 1' 'Guitar 1' 29\n",
      "'Guitar 1  cont.' 'Guitar 1  cont.' 29\n",
      "'Guitar 2' 'Guitar 2' 30\n",
      "'Guitar 2  cont.' 'Guitar 2  cont.' 30\n",
      "'Bass' 'Bass' 33\n",
      "'Snare' 'Snare' 114\n",
      "'Bass Drum' 'Bass Drum' 112\n",
      "'Cymbal' 'Cymbal' 118\n",
      "\n"
     ]
    }
   ],
   "source": [
    "print(song)\n",
    "print(s)"
   ]
  },
  {
   "cell_type": "code",
   "execution_count": 9,
   "metadata": {},
   "outputs": [],
   "source": [
    "def recursive_walk_directory(dirname):\n",
    "    outf = open('out.txt', 'wb')\n",
    "    pb = tqdm.tqdm_notebook(total=128)\n",
    "    for root, directories, filenames in os.walk(dirname):\n",
    "        for filename in filenames:\n",
    "            if filename[-4:].lower() == '.mid':\n",
    "                process_file(os.path.join(root, filename), outf)\n",
    "                pb.update(n=1)\n",
    "            else:\n",
    "                print(filename)\n",
    "    outf.close()"
   ]
  },
  {
   "cell_type": "code",
   "execution_count": 10,
   "metadata": {},
   "outputs": [
    {
     "data": {
      "text/html": [
       "<p>Failed to display Jupyter Widget of type <code>HBox</code>.</p>\n",
       "<p>\n",
       "  If you're reading this message in Jupyter Notebook or JupyterLab, it may mean\n",
       "  that the widgets JavaScript is still loading. If this message persists, it\n",
       "  likely means that the widgets JavaScript library is either not installed or\n",
       "  not enabled. See the <a href=\"https://ipywidgets.readthedocs.io/en/stable/user_install.html\">Jupyter\n",
       "  Widgets Documentation</a> for setup instructions.\n",
       "</p>\n",
       "<p>\n",
       "  If you're reading this message in another notebook frontend (for example, a static\n",
       "  rendering on GitHub or <a href=\"https://nbviewer.jupyter.org/\">NBViewer</a>),\n",
       "  it may mean that your frontend doesn't currently support widgets.\n",
       "</p>\n"
      ],
      "text/plain": [
       "HBox(children=(IntProgress(value=0, max=128), HTML(value='')))"
      ]
     },
     "metadata": {},
     "output_type": "execute_result"
    },
    {
     "name": "stdout",
     "output_type": "stream",
     "text": [
      "Broken midi:  data byte must be in range 0..127\n"
     ]
    }
   ],
   "source": [
    "recursive_walk_directory('metallica/')"
   ]
  },
  {
   "cell_type": "code",
   "execution_count": 13,
   "metadata": {},
   "outputs": [
    {
     "data": {
      "text/html": [
       "<p>Failed to display Jupyter Widget of type <code>HBox</code>.</p>\n",
       "<p>\n",
       "  If you're reading this message in Jupyter Notebook or JupyterLab, it may mean\n",
       "  that the widgets JavaScript is still loading. If this message persists, it\n",
       "  likely means that the widgets JavaScript library is either not installed or\n",
       "  not enabled. See the <a href=\"https://ipywidgets.readthedocs.io/en/stable/user_install.html\">Jupyter\n",
       "  Widgets Documentation</a> for setup instructions.\n",
       "</p>\n",
       "<p>\n",
       "  If you're reading this message in another notebook frontend (for example, a static\n",
       "  rendering on GitHub or <a href=\"https://nbviewer.jupyter.org/\">NBViewer</a>),\n",
       "  it may mean that your frontend doesn't currently support widgets.\n",
       "</p>\n"
      ],
      "text/plain": [
       "HBox(children=(IntProgress(value=0, max=128), HTML(value='')))"
      ]
     },
     "metadata": {},
     "output_type": "execute_result"
    },
    {
     "name": "stdout",
     "output_type": "stream",
     "text": [
      "\n",
      "Ran out of input\n"
     ]
    }
   ],
   "source": [
    "inf = open('out.txt', 'rb')\n",
    "pb = tqdm.tqdm_notebook(total=128)\n",
    "songs = []\n",
    "while True:\n",
    "    try:\n",
    "        song = Song()\n",
    "        song.undump(inf)\n",
    "        songs.append(song)\n",
    "        pb.update(n=1)\n",
    "    except Exception as e:\n",
    "        print(e)\n",
    "        break\n",
    "inf.close()"
   ]
  },
  {
   "cell_type": "code",
   "execution_count": 14,
   "metadata": {},
   "outputs": [
    {
     "data": {
      "text/plain": [
       "127"
      ]
     },
     "execution_count": 14,
     "metadata": {},
     "output_type": "execute_result"
    }
   ],
   "source": [
    "len(songs)"
   ]
  },
  {
   "cell_type": "code",
   "execution_count": null,
   "metadata": {},
   "outputs": [],
   "source": []
  }
 ],
 "metadata": {
  "kernelspec": {
   "display_name": "Python 3",
   "language": "python",
   "name": "python3"
  },
  "language_info": {
   "codemirror_mode": {
    "name": "ipython",
    "version": 3
   },
   "file_extension": ".py",
   "mimetype": "text/x-python",
   "name": "python",
   "nbconvert_exporter": "python",
   "pygments_lexer": "ipython3",
   "version": "3.6.0"
  }
 },
 "nbformat": 4,
 "nbformat_minor": 2
}
